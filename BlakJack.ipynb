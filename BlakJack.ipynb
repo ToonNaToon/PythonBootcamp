{
 "cells": [
  {
   "cell_type": "markdown",
   "id": "a7b76765",
   "metadata": {},
   "source": [
    "This is a Black Jack Game in Python -- Date 03/10/22 @11:10 PM"
   ]
  },
  {
   "cell_type": "markdown",
   "id": "e7608c6c",
   "metadata": {},
   "source": [
    "Create a Deck of cards class"
   ]
  },
  {
   "cell_type": "code",
   "execution_count": 1,
   "id": "29d798f9",
   "metadata": {},
   "outputs": [],
   "source": [
    "import random\n",
    "suits = ['H','S','C','D']\n",
    "ranks = ['A','K','Q','J','10','9','8','7','6','5','4','3','2']\n",
    "values = {'A':1,'K':10,'Q':10,'J':10,'10':10,'9':9,'8':8,'7':7,'6':6,'5':5,'4':4,'3':3,'2':2}"
   ]
  },
  {
   "cell_type": "code",
   "execution_count": 2,
   "id": "75d5e675",
   "metadata": {},
   "outputs": [],
   "source": [
    "class Deck:\n",
    "    \n",
    "    def __init__(self):\n",
    "        self.newDeck = []\n",
    "        for suit in suits:\n",
    "            for rank in ranks:\n",
    "                self.newDeck.append(rank + ' of ' + suit)\n",
    "             \n",
    "                \n",
    "    def __str__(self):\n",
    "        return \",\".join(self.newDeck)\n",
    "    \n",
    "    def shuffle(self):\n",
    "        random.shuffle(self.newDeck)\n",
    "        \n",
    "    def deal_one(self):\n",
    "        return self.newDeck.pop()  \n",
    "    \n",
    "    def getvalue(self,rank):\n",
    "        return values[rank]\n",
    "    "
   ]
  },
  {
   "cell_type": "code",
   "execution_count": 3,
   "id": "6bc6027f",
   "metadata": {},
   "outputs": [],
   "source": [
    "        \n",
    "class Player:\n",
    "\n",
    "    def __init__(self,balance,name):\n",
    "        self.name = name.capitalize()\n",
    "        self.balance = int(balance)\n",
    "        \n",
    "    def __str__(self):\n",
    "        return \" You have a current balance of $\" + str(self.balance)\n",
    "    \n",
    "    def bet(self,amount):\n",
    "            self.balance = self.balance - amount\n",
    "            \n",
    "    def win(self,amount):\n",
    "        self.balance = self.balance + amount\n",
    "        \n",
    "    def getbalance(self):\n",
    "        return self.balance"
   ]
  },
  {
   "cell_type": "code",
   "execution_count": null,
   "id": "175bbea6",
   "metadata": {},
   "outputs": [
    {
     "name": "stdout",
     "output_type": "stream",
     "text": [
      "What is your name?: sikal\n",
      "How much would you like to get started with: 100\n",
      "\n",
      "\n",
      "\n",
      "\n",
      "# Welcome to the beautiful game of Blackjack Sikal. You have a current balance of $100\n",
      "\n",
      "How much would you like to bet? 10\n",
      "\n",
      "Good Luck\n",
      "Your cards are :\n",
      "9 of H\n",
      "2 of C\n",
      "Your current point is: 11\n",
      "\n",
      "Dealer Visible card is : 5 of D\n"
     ]
    }
   ],
   "source": [
    "noMoney = True\n",
    "validbet = True\n",
    "name = input(\"What is your name?: \")\n",
    "endGame = False\n",
    "balance = 0 \n",
    "while noMoney:\n",
    "    try:\n",
    "        balance = int(input(\"How much would you like to get started with: \"))\n",
    "        noMoney = False\n",
    "    except:\n",
    "        print(\"\\n\")\n",
    "        print(\"Please enter a valid amount\")\n",
    "\n",
    "if name == \"\":\n",
    "    name = \"Player\"\n",
    "print(\"\\n\")\n",
    "        \n",
    "# initital player 1\n",
    "player1 = Player(balance,name)  \n",
    "print(\"\\n\")\n",
    "print(f\"# Welcome to the beautiful game of Blackjack {name.capitalize()}.{player1}\\n\")\n",
    "\n",
    "#Keep track of points\n",
    "dealer_points = 0\n",
    "player_points = 0\n",
    "while validbet:\n",
    "    #print(player1.getbalance()) # Debug\n",
    "    currentBalance = player1.getbalance()\n",
    "    try:\n",
    "        bet = int(input(\"How much would you like to bet? \"))\n",
    "        if bet > currentBalance:\n",
    "            print(f\"You do not have enough money; your balance is {currentBalance} Please enter proper amount\")\n",
    "        else:\n",
    "            player1.bet(bet)\n",
    "            validbet = False\n",
    "    except:\n",
    "        print(\"Enter a Valid bet\")\n",
    "\n",
    "print(\"\\nGood Luck\")\n",
    "# Create a new Deck and shuffle\n",
    "newDeck = Deck()\n",
    "newDeck.shuffle()\n",
    "playerCards = []\n",
    "DealerCards = []\n",
    "\n",
    "playerCards.append(newDeck.deal_one())\n",
    "DealerCards.append(newDeck.deal_one())\n",
    "playerCards.append(newDeck.deal_one())\n",
    "DealerCards.append(newDeck.deal_one())\n",
    "\n",
    "print (\"Your cards are :\")\n",
    "for Pcards in playerCards:\n",
    "    split = Pcards.split(' of')\n",
    "    print(Pcards)\n",
    "    player_points += values[split[0]]    \n",
    "print(f\"Your current point is: {player_points}\")\n",
    "if len(DealerCards)==2:\n",
    "    \n",
    "    for Dcards in DealerCards:\n",
    "        split = Dcards.split(' of')\n",
    "        dealer_points += values[split[0]]\n",
    "    print (f\"\\nDealer Visible card is : {Dcards}\")\n",
    "\n",
    "elif len(DealerCards)>2:\n",
    "    print(\"************\")\n",
    "    print(\"Dealers cards are:\")\n",
    "    for Dcards in DealerCards:\n",
    "        split = Dcards.split(' of')\n",
    "        dealer_points += values[split[0]]\n",
    "        print (f\"\\nDealer Visible card is : {Dcards}\")\n",
    "    print(f\"Dealers curent Points: {dealer_points}\")\n",
    "    \n",
    "    \n",
    "#print(f\"Your current point is: {dealer_points}\")     \n",
    "\n",
    "while True:\n",
    "    move = input(\"Enter H for Hit or S for stand: \")\n",
    "    if move.capitalize() == \"H\" or move.capitalize() == \"S\":\n",
    "            \n",
    "            break\n",
    "    else:\n",
    "            print(\"Invalid entry, Please enter again\")\n",
    "            \n",
    "    \n",
    "    \n",
    "\n",
    "\n",
    "        \n",
    "        "
   ]
  },
  {
   "cell_type": "code",
   "execution_count": null,
   "id": "8bd0c24a",
   "metadata": {},
   "outputs": [],
   "source": [
    "print(player1)"
   ]
  },
  {
   "cell_type": "code",
   "execution_count": null,
   "id": "81763931",
   "metadata": {},
   "outputs": [],
   "source": [
    "player1.bet(25)\n",
    "player2.bet(25)\n",
    "player1.win(50)\n",
    "print(player1)\n",
    "print(player2)"
   ]
  },
  {
   "cell_type": "markdown",
   "id": "d4edc156",
   "metadata": {},
   "source": [
    "Black Jack Poker Logic begins\n",
    "- \n"
   ]
  },
  {
   "cell_type": "code",
   "execution_count": null,
   "id": "fa1cbedc",
   "metadata": {},
   "outputs": [],
   "source": []
  }
 ],
 "metadata": {
  "kernelspec": {
   "display_name": "Python 3 (ipykernel)",
   "language": "python",
   "name": "python3"
  },
  "language_info": {
   "codemirror_mode": {
    "name": "ipython",
    "version": 3
   },
   "file_extension": ".py",
   "mimetype": "text/x-python",
   "name": "python",
   "nbconvert_exporter": "python",
   "pygments_lexer": "ipython3",
   "version": "3.9.7"
  }
 },
 "nbformat": 4,
 "nbformat_minor": 5
}
